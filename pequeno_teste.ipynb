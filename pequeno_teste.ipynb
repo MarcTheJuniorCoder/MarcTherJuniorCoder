{
  "nbformat": 4,
  "nbformat_minor": 0,
  "metadata": {
    "colab": {
      "provenance": [],
      "authorship_tag": "ABX9TyOfHawRinlWote1ykd1oXAp",
      "include_colab_link": true
    },
    "kernelspec": {
      "name": "python3",
      "display_name": "Python 3"
    },
    "language_info": {
      "name": "python"
    }
  },
  "cells": [
    {
      "cell_type": "markdown",
      "metadata": {
        "id": "view-in-github",
        "colab_type": "text"
      },
      "source": [
        "<a href=\"https://colab.research.google.com/github/MarcTheJuniorCoder/MarcTherJuniorCoder/blob/main/pequeno_teste.ipynb\" target=\"_parent\"><img src=\"https://colab.research.google.com/assets/colab-badge.svg\" alt=\"Open In Colab\"/></a>"
      ]
    },
    {
      "cell_type": "code",
      "execution_count": null,
      "metadata": {
        "id": "Iak-dGXaJ8zT"
      },
      "outputs": [],
      "source": [
        "# variaveis\n",
        "\n",
        "emails = [\n",
        "  {\"Jazz\": \"jazzpacito@outlook.com_\"},\n",
        "  {\"Mike\": \"miketheballin@gmai.com_\"},\n",
        "  {\"Jonh\": \"jonhgogo@hotmail.com_\"},\n",
        "]\n",
        "\n",
        "# lista dos contatos\n",
        "print(\"Contato dos administradores: \")\n",
        "print(\"\")\n",
        "\n",
        "i = 1\n",
        "\n",
        "for i, pessoa in enumerate(emails):\n",
        "  if \"Jazz\" in pessoa:\n",
        "    email = pessoa[\"Jazz\"]\n",
        "    i += 1\n",
        "    print(i, \"Jazz: \" + email)\n",
        "\n",
        "for i, pessoa in enumerate(emails):\n",
        "  if \"Mike\" in pessoa:\n",
        "    email = pessoa[\"Mike\"]\n",
        "    i += 1\n",
        "    print(i, \"Mike: \" + email)\n",
        "\n",
        "for pessoa in emails:\n",
        "  if \"Jonh\" in pessoa:\n",
        "    email = pessoa[\"Jonh\"]\n",
        "    print(i, \"Jonh: \" + email)"
      ]
    }
  ]
}