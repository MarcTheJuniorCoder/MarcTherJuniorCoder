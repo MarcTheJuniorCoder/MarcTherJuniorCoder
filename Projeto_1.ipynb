{
  "nbformat": 4,
  "nbformat_minor": 0,
  "metadata": {
    "colab": {
      "provenance": [],
      "authorship_tag": "ABX9TyMdE6Dpgd35snG6MN2kg11N",
      "include_colab_link": true
    },
    "kernelspec": {
      "name": "python3",
      "display_name": "Python 3"
    },
    "language_info": {
      "name": "python"
    }
  },
  "cells": [
    {
      "cell_type": "markdown",
      "metadata": {
        "id": "view-in-github",
        "colab_type": "text"
      },
      "source": [
        "<a href=\"https://colab.research.google.com/github/MarcTheJuniorCoder/MarcTherJuniorCoder/blob/main/Projeto_1.ipynb\" target=\"_parent\"><img src=\"https://colab.research.google.com/assets/colab-badge.svg\" alt=\"Open In Colab\"/></a>"
      ]
    },
    {
      "cell_type": "markdown",
      "source": [
        "**👨‍💻 Informações de Cadastro - Projeto 1**"
      ],
      "metadata": {
        "id": "qVMZ__khdkdW"
      }
    },
    {
      "cell_type": "code",
      "execution_count": null,
      "metadata": {
        "id": "9x46tsftcnv3"
      },
      "outputs": [],
      "source": [
        "from concurrent.futures import wait\n",
        "#Passo 1 - Apresentação da empresa\n",
        "empresa = \"Armandos\"\n",
        "\n",
        "print(f\"Olá 👋! somos da equipe dos {empresa} 🖥️! Por favor responda as seguintes perguntas:\")\n",
        "\n",
        "#Passo 2 - Cadastro\n",
        "nome = input(\"1 - Seu nome completo: \")\n",
        "\n",
        "idade = input(\"2 - Data de nascimento: \")\n",
        "\n",
        "estado = input(\"3 - Sua cidade: \")\n",
        "\n",
        "tel = input(\"4 - Numero de telefone: \")\n",
        "\n",
        "#Passo 3 - Conclusão\n",
        "import time\n",
        "\n",
        "print(\"Certo, então suas seguintes informações são: \")\n",
        "time.sleep(2)\n",
        "print(\"Nome - \" + nome)\n",
        "print(\"Idade - \" + idade)\n",
        "print(\"Cidade - \" + estado)\n",
        "print(\"Telefone - \" + tel)\n",
        "time.sleep(2)\n",
        "print(\"Agradecemos pelo cadastro, iremos entrar em contato com você em breve!🤝\")"
      ]
    }
  ]
}