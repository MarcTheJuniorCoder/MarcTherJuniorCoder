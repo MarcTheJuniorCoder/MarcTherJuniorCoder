{
  "nbformat": 4,
  "nbformat_minor": 0,
  "metadata": {
    "colab": {
      "provenance": [],
      "authorship_tag": "ABX9TyOHKzy1qejO5njQwSITQ7Ku",
      "include_colab_link": true
    },
    "kernelspec": {
      "name": "python3",
      "display_name": "Python 3"
    },
    "language_info": {
      "name": "python"
    }
  },
  "cells": [
    {
      "cell_type": "markdown",
      "metadata": {
        "id": "view-in-github",
        "colab_type": "text"
      },
      "source": [
        "<a href=\"https://colab.research.google.com/github/MarcTheJuniorCoder/MarcTherJuniorCoder/blob/main/Mercadinho.ipynb\" target=\"_parent\"><img src=\"https://colab.research.google.com/assets/colab-badge.svg\" alt=\"Open In Colab\"/></a>"
      ]
    },
    {
      "cell_type": "markdown",
      "source": [
        "**🧺 Mercadinho de bairro**"
      ],
      "metadata": {
        "id": "posyggWYq90X"
      }
    },
    {
      "cell_type": "code",
      "execution_count": null,
      "metadata": {
        "id": "Mr3XkHPjcrMp"
      },
      "outputs": [],
      "source": [
        "# Preços\n",
        "\n",
        "numero1 = 2.00\n",
        "\n",
        "numero2 = 3.40\n",
        "\n",
        "numero3 = 1.80\n",
        "\n",
        "numero4 = 5.90\n",
        "\n",
        "numero5 = 4.60\n",
        "\n",
        "import time\n",
        "\n",
        "# Mercado\n",
        "print(\"Bem vindo ao nosso mercado!!\")\n",
        "time.sleep(1)\n",
        "\n",
        "# Lista\n",
        "lista = [\"🍎 Maçã\", \"🍍 Abacaxi\", \"🍈 Melão\", \"🍌 Banana\", \"🍊 Laranja\"]\n",
        "\n",
        "print(\"Estamos vendendo no momento:\", lista)\n",
        "time.sleep(1)\n",
        "\n",
        "mercadoria = input(\"O que gostaria de comprar? \")\n",
        "\n",
        "# Respostas\n",
        "if mercadoria == \"maçã\":\n",
        "  print(f\"Claro! Ela custa R${numero1:.2f}\")\n",
        "\n",
        "if mercadoria == \"abacaxi\":\n",
        "  print(f\"Claro! Ela custa R${numero2:.2f}\")\n",
        "\n",
        "if mercadoria == \"melão\":\n",
        "  print(f\"Claro! Ela custa R${numero4:.2f}\")\n",
        "\n",
        "if mercadoria == \"banana\":\n",
        "  print(f\"Claro! Ela custa R${numero5:.2f}\")\n",
        "\n",
        "if mercadoria == \"laranja\":\n",
        "  print(f\"Claro! Ela custa R${numero3:.2f}\")\n",
        "time.sleep(2)\n",
        "\n",
        "# Pagamento\n",
        "\n",
        "print(\"Qual seria a forma de pagamento?\")\n",
        "\n",
        "pagamento = input(\"💳Cartão/💵Dinheiro/📱Pix - \")\n",
        "\n",
        "if pagamento == \"cartão\":\n",
        "    tipo_cartao = input(\"Crédito ou débito? \")\n",
        "\n",
        "    if tipo_cartao == \"débito\" or tipo_cartao == \"crédito\":\n",
        "        print(\"Agradecemos por comprar em nosso mercado!\")\n",
        "\n",
        "if pagamento == \"dinheiro\":\n",
        "  print(\"Agradecemos por comprar em nosso mercado!\")\n",
        "\n",
        "while pagamento.lower() == \"pix\":\n",
        "    numero_digitado = input(\"Digite o número: 93139471 - \")\n",
        "    if numero_digitado == \"93139471\":\n",
        "        print(\"Agradecemos por comprar em nosso mercado!\")\n",
        "        break\n",
        "    else:\n",
        "        print(\"Número incorreto, tente novamente.\")\n",
        "\n",
        "    pagamento = input(\"Digite o numero novamente - \")"
      ]
    }
  ]
}