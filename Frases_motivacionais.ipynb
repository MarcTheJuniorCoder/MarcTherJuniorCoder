{
  "nbformat": 4,
  "nbformat_minor": 0,
  "metadata": {
    "colab": {
      "provenance": [],
      "authorship_tag": "ABX9TyMuuEw8agp91/3Q4MpNU8ii",
      "include_colab_link": true
    },
    "kernelspec": {
      "name": "python3",
      "display_name": "Python 3"
    },
    "language_info": {
      "name": "python"
    }
  },
  "cells": [
    {
      "cell_type": "markdown",
      "metadata": {
        "id": "view-in-github",
        "colab_type": "text"
      },
      "source": [
        "<a href=\"https://colab.research.google.com/github/MarcTheJuniorCoder/MarcTherJuniorCoder/blob/main/Frases_motivacionais.ipynb\" target=\"_parent\"><img src=\"https://colab.research.google.com/assets/colab-badge.svg\" alt=\"Open In Colab\"/></a>"
      ]
    },
    {
      "cell_type": "markdown",
      "source": [
        "**❤️‍🩹 Frases Motivacionais do dia**"
      ],
      "metadata": {
        "id": "5FOR4AvG055F"
      }
    },
    {
      "cell_type": "code",
      "execution_count": null,
      "metadata": {
        "id": "VsE0iCpa049q"
      },
      "outputs": [],
      "source": [
        "# Variaveis\n",
        "\n",
        "print(\"- Aqui você pode ver frases motivacionais sobre seu dia!🏙️\")\n",
        "\n",
        "dia = input(\"Informe o dia da semana que você está: \")\n",
        "\n",
        "# Dias da semana\n",
        "\n",
        "if dia == \"segunda\":\n",
        "    print(\"⚒️ Bom dia! É segunda-feira, uma nova semana cheia de oportunidades se inicia.\")\n",
        "\n",
        "if dia == \"terça\":\n",
        "    print(\"🖥️ Hoje é terça-feira, um novo dia para buscar seus objetivos com determinação e foco.\")\n",
        "\n",
        "if dia == \"quarta\":\n",
        "    print(\"🔮 Quarta-feira é o meio da semana, um lembrete de que você já superou metade dos desafios. Continue perseverando!\")\n",
        "\n",
        "if dia == \"quinta\":\n",
        "    print(\"🤝 O segredo para alcançar seus objetivos é começar. Não importa o quão lento você vá, desde que não pare.\")\n",
        "\n",
        "if dia == \"sexta\":\n",
        "    print(\"🔮 Você chegou até aqui. Continue seguindo em frente. Grandes coisas estão à frente.\")\n",
        "\n",
        "if dia == \"sábado\":\n",
        "    print(\"❤️‍🩹 Aproveite o presente. O sábado é uma oportunidade de recarregar as energias, renovar os sonhos e buscar novas aventuras\")\n",
        "\n",
        "if dia == \"domingo\":\n",
        "    print(\"😁 O domingo é um convite para reflexão e planejamento. Prepare-se para uma nova semana, mas não se esqueça de aproveitar o momento presente.\")"
      ]
    },
    {
      "cell_type": "code",
      "source": [],
      "metadata": {
        "id": "VO_4VG5i1Z3Z"
      },
      "execution_count": null,
      "outputs": []
    }
  ]
}