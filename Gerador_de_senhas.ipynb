{
  "nbformat": 4,
  "nbformat_minor": 0,
  "metadata": {
    "colab": {
      "provenance": [],
      "authorship_tag": "ABX9TyOJXrSiXH7bMAKu2PtdelRF",
      "include_colab_link": true
    },
    "kernelspec": {
      "name": "python3",
      "display_name": "Python 3"
    },
    "language_info": {
      "name": "python"
    }
  },
  "cells": [
    {
      "cell_type": "markdown",
      "metadata": {
        "id": "view-in-github",
        "colab_type": "text"
      },
      "source": [
        "<a href=\"https://colab.research.google.com/github/MarcTheJuniorCoder/MarcTherJuniorCoder/blob/main/Gerador_de_senhas.ipynb\" target=\"_parent\"><img src=\"https://colab.research.google.com/assets/colab-badge.svg\" alt=\"Open In Colab\"/></a>"
      ]
    },
    {
      "cell_type": "markdown",
      "source": [
        "**Gerador de senhas aleatorias**"
      ],
      "metadata": {
        "id": "SorQxWnRm6-r"
      }
    },
    {
      "cell_type": "code",
      "execution_count": 8,
      "metadata": {
        "colab": {
          "base_uri": "https://localhost:8080/"
        },
        "id": "bQi4yZTvm4cA",
        "outputId": "d45f5a07-36e0-4ac9-c01f-be535c34267c"
      },
      "outputs": [
        {
          "output_type": "stream",
          "name": "stdout",
          "text": [
            "Sua senha aleatoria é:8nvPrzDEoA\n"
          ]
        }
      ],
      "source": [
        "# Numeros e simbolos\n",
        "import random\n",
        "\n",
        "menor = \"abcdefghijklmnopqrstuvwxyz\"\n",
        "maior = \"ABCDEFGHIJKLMNOPQRSTUVWXYZ\"\n",
        "numeros = \"0123456789\"\n",
        "simbolos = \"!@#$%¨&*()\"\n",
        "\n",
        "# Gerador\n",
        "\n",
        "string = menor + maior + numeros + simbolos\n",
        "\n",
        "quantidade = 10\n",
        "\n",
        "senha = \"\".join(random.sample(string,quantidade))\n",
        "\n",
        "print(\"Sua senha aleatoria é:\" + senha)\n"
      ]
    }
  ]
}